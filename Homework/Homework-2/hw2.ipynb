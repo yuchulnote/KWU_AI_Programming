{
 "cells": [
  {
   "cell_type": "code",
   "execution_count": 1,
   "id": "1c3c300f",
   "metadata": {
    "scrolled": false
   },
   "outputs": [
    {
     "name": "stdout",
     "output_type": "stream",
     "text": [
      "﻿선수명\t팀명\tAVG\tG\tPA\tAB\tR\tH\t2B\t3B\tHR\tTB\tRBI\tSAC\tSF\t박건우\tNC\t0.346\t102\t431\t381\t50\t132\t18\t1\t10\t182\t59\t0\t3\t이정후\t키움\t0.346\t138\t605\t534\t80\t185\t35\t10\t22\t306\t108\t0\t3\t피렐라\t삼성\t0.342\t132\t591\t523\t95\t179\t27\t4\t26\t292\t102\t0\t2\t이대호\t롯데\t0.335\t136\t565\t519\t51\t174\t22\t0\t21\t259\t94\t0\t6\t문보경\tLG\t0.326\t117\t431\t377\t50\t123\t21\t3\t9\t177\t50\t5\t7\t소크라테스\tKIA\t0.321\t120\t523\t483\t80\t155\t28\t7\t16\t245\t71\t0\t4\t나성범\tKIA\t0.319\t136\t616\t530\t87\t169\t38\t2\t21\t274\t96\t0\t5\t김혜성\t키움\t0.316\t125\t546\t497\t79\t157\t18\t7\t4\t201\t46\t0\t3\t한동희\t롯데\t0.31\t124\t483\t442\t41\t137\t26\t0\t13\t202\t63\t0\t4\t조용호\tKT\t0.309\t123\t497\t443\t49\t137\t17\t3\t2\t166\t39\t2\t2\t전준우\t롯데\t0.306\t114\t494\t448\t70\t137\t30\t1\t11\t202\t67\t0\t9\t최지훈\tSSG\t0.303\t137\t615\t547\t91\t166\t30\t4\t9\t231\t59\t12\t4\t페르난데스\t두산\t0.303\t131\t526\t485\t50\t147\t24\t0\t6\t189\t72\t0\t5\t채은성\tLG\t0.302\t117\t492\t437\t46\t132\t26\t2\t11\t195\t79\t0\t10\t허경민\t두산\t0.294\t112\t459\t401\t56\t118\t23\t0\t6\t159\t57\t2\t6\t박성한\tSSG\t0.293\t133\t534\t464\t65\t136\t22\t4\t2\t172\t55\t6\t2\t마티니\tNC\t0.292\t133\t555\t490\t65\t143\t32\t1\t16\t225\t84\t0\t7\t김선빈\tKIA\t0.29\t132\t560\t482\t49\t140\t21\t0\t3\t170\t57\t7\t2\t박해민\tLG\t0.29\t133\t593\t531\t94\t154\t18\t8\t3\t197\t46\t7\t5\t안치홍\t롯데\t0.289\t128\t548\t481\t71\t139\t27\t3\t14\t214\t58\t7\t5\t터크먼\t한화\t0.289\t137\t616\t551\t83\t159\t34\t4\t12\t237\t41\t0\t2\t양의지\tNC\t0.286\t121\t489\t409\t60\t117\t24\t0\t20\t201\t90\t0\t9\t홍창기\tLG\t0.284\t107\t481\t402\t69\t114\t17\t4\t1\t142\t47\t5\t5\t푸이그\t키움\t0.284\t122\t526\t455\t65\t129\t30\t0\t21\t222\t73\t0\t4\t노시환\t한화\t0.283\t108\t456\t400\t53\t113\t20\t1\t6\t153\t59\t0\t4\t노진혁\tNC\t0.277\t105\t415\t361\t47\t100\t24\t0\t13\t163\t67\t3\t5\t류지혁\tKIA\t0.276\t120\t444\t384\t52\t106\t17\t2\t2\t133\t46\t6\t2\t손아섭\tNC\t0.276\t128\t573\t511\t66\t141\t28\t3\t4\t187\t43\t1\t6\t정은원\t한화\t0.275\t133\t566\t476\t65\t131\t20\t2\t8\t179\t49\t4\t3\t김현수\tLG\t0.274\t131\t568\t492\t76\t135\t23\t2\t23\t231\t101\t0\t2\t"
     ]
    }
   ],
   "source": [
    "import numpy as np\n",
    "import pprint\n",
    "\n",
    "Baseball = []\n",
    "\n",
    "with open('hw2.csv', 'r') as csv_file:\n",
    "    for line in csv_file:\n",
    "        data = line.strip().split(',')\n",
    "        Baseball.append(data)\n",
    "        for d in data:\n",
    "            print(d, end='\\t')\n",
    "\n",
    "stat_list = Baseball[0]\n",
    "stat_tuple = tuple(stat_list)"
   ]
  },
  {
   "cell_type": "code",
   "execution_count": 2,
   "id": "24e53073",
   "metadata": {},
   "outputs": [],
   "source": [
    "def Player():\n",
    "    x = input(\"선수이름을 입력해주세요 : \")\n",
    "    for info in Baseball:\n",
    "        if info[0] == x:\n",
    "            print(info[1:])\n",
    "            break\n",
    "    else:\n",
    "        print(\"없는 선수입니다\")"
   ]
  },
  {
   "cell_type": "code",
   "execution_count": 3,
   "id": "04462668",
   "metadata": {},
   "outputs": [],
   "source": [
    "def Val():\n",
    "    x = input(\"선수이름을 입력해주세요 : \")\n",
    "    \n",
    "    for info in Baseball:\n",
    "        if info[0] == x:\n",
    "            y = stat_tuple.index(input(\"보고싶은 통계를 입력하세요 : \"))\n",
    "            print(info[y])"
   ]
  },
  {
   "cell_type": "code",
   "execution_count": 4,
   "id": "a44d1296",
   "metadata": {},
   "outputs": [
    {
     "data": {
      "text/plain": [
       "(31, 15)"
      ]
     },
     "execution_count": 4,
     "metadata": {},
     "output_type": "execute_result"
    }
   ],
   "source": [
    "Matrix = np.array(Baseball)\n",
    "Matrix.shape"
   ]
  },
  {
   "cell_type": "code",
   "execution_count": 5,
   "id": "0708ed70",
   "metadata": {},
   "outputs": [],
   "source": [
    "def sort():\n",
    "        x = stat_tuple.index(input(\"통계를 선택하세요 : \"))\n",
    "\n",
    "        Name = Matrix[1:,0]\n",
    "        Character = Matrix[1:,x]\n",
    "        \n",
    "        Name_list = Name.tolist()\n",
    "        Char_list = Character.tolist()\n",
    "        Char_list = list(map(int, Char_list))\n",
    "        \n",
    "        Dic = dict(zip(Name_list, Char_list))\n",
    "        sorted_Dic = sorted(Dic.items(), key=lambda item: item[1], reverse=True)\n",
    "        pprint.pprint(sorted_Dic)"
   ]
  },
  {
   "cell_type": "code",
   "execution_count": 6,
   "id": "8bf37cf7",
   "metadata": {},
   "outputs": [
    {
     "name": "stdout",
     "output_type": "stream",
     "text": [
      "선수이름을 입력해주세요 : 채은성\n",
      "['LG', '0.302', '117', '492', '437', '46', '132', '26', '2', '11', '195', '79', '0', '10']\n",
      "선수이름을 입력해주세요 : 채은성\n",
      "보고싶은 통계를 입력하세요 : HR\n",
      "11\n",
      "통계를 선택하세요 : HR\n",
      "[('피렐라', 26),\n",
      " ('김현수', 23),\n",
      " ('이정후', 22),\n",
      " ('이대호', 21),\n",
      " ('나성범', 21),\n",
      " ('푸이그', 21),\n",
      " ('양의지', 20),\n",
      " ('소크라테스', 16),\n",
      " ('마티니', 16),\n",
      " ('안치홍', 14),\n",
      " ('한동희', 13),\n",
      " ('노진혁', 13),\n",
      " ('터크먼', 12),\n",
      " ('전준우', 11),\n",
      " ('채은성', 11),\n",
      " ('박건우', 10),\n",
      " ('문보경', 9),\n",
      " ('최지훈', 9),\n",
      " ('정은원', 8),\n",
      " ('페르난데스', 6),\n",
      " ('허경민', 6),\n",
      " ('노시환', 6),\n",
      " ('김혜성', 4),\n",
      " ('손아섭', 4),\n",
      " ('김선빈', 3),\n",
      " ('박해민', 3),\n",
      " ('조용호', 2),\n",
      " ('박성한', 2),\n",
      " ('류지혁', 2),\n",
      " ('홍창기', 1)]\n"
     ]
    }
   ],
   "source": [
    "#TEST\n",
    "Player()\n",
    "Val()\n",
    "sort()"
   ]
  }
 ],
 "metadata": {
  "kernelspec": {
   "display_name": "Python 3 (ipykernel)",
   "language": "python",
   "name": "python3"
  },
  "language_info": {
   "codemirror_mode": {
    "name": "ipython",
    "version": 3
   },
   "file_extension": ".py",
   "mimetype": "text/x-python",
   "name": "python",
   "nbconvert_exporter": "python",
   "pygments_lexer": "ipython3",
   "version": "3.7.13"
  }
 },
 "nbformat": 4,
 "nbformat_minor": 5
}
